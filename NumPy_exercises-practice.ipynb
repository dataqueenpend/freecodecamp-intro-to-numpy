{
  "nbformat": 4,
  "nbformat_minor": 0,
  "metadata": {
    "colab": {
      "name": "NumPy - exercises.ipynb",
      "provenance": [],
      "collapsed_sections": [],
      "authorship_tag": "ABX9TyOIiLP5FsYysNs63hlvKhth",
      "include_colab_link": true
    },
    "kernelspec": {
      "name": "python3",
      "display_name": "Python 3"
    },
    "language_info": {
      "name": "python"
    }
  },
  "cells": [
    {
      "cell_type": "markdown",
      "metadata": {
        "id": "view-in-github",
        "colab_type": "text"
      },
      "source": [
        "<a href=\"https://colab.research.google.com/github/dataqueenpend/freecodecamp-intro-to-numpy/blob/master/NumPy_exercises-practice.ipynb\" target=\"_parent\"><img src=\"https://colab.research.google.com/assets/colab-badge.svg\" alt=\"Open In Colab\"/></a>"
      ]
    },
    {
      "cell_type": "code",
      "metadata": {
        "colab": {
          "base_uri": "https://localhost:8080/"
        },
        "id": "Ca83VKqTt-R1",
        "outputId": "1177531e-dfcb-4753-e04e-dd3fc00cd8f7"
      },
      "source": [
        "import numpy as np\n",
        "\n",
        "a = np.arange(5)\n",
        "a + 20"
      ],
      "execution_count": 1,
      "outputs": [
        {
          "output_type": "execute_result",
          "data": {
            "text/plain": [
              "array([20, 21, 22, 23, 24])"
            ]
          },
          "metadata": {},
          "execution_count": 1
        }
      ]
    },
    {
      "cell_type": "code",
      "metadata": {
        "colab": {
          "base_uri": "https://localhost:8080/"
        },
        "id": "ZKdpjKDnxJOw",
        "outputId": "24a3c831-067a-4e7f-bcd1-6526c16d5f7f"
      },
      "source": [
        "a"
      ],
      "execution_count": 2,
      "outputs": [
        {
          "output_type": "execute_result",
          "data": {
            "text/plain": [
              "array([0, 1, 2, 3, 4])"
            ]
          },
          "metadata": {},
          "execution_count": 2
        }
      ]
    },
    {
      "cell_type": "markdown",
      "metadata": {
        "id": "X8cRl8XbuRLE"
      },
      "source": [
        "##Array creation\n",
        " Create a numpy array of size 10, filled with zeros."
      ]
    },
    {
      "cell_type": "code",
      "metadata": {
        "id": "lO14Gv9hzLfo",
        "colab": {
          "base_uri": "https://localhost:8080/"
        },
        "outputId": "1ef155f4-bb1d-450b-fa52-b09f183cb93d"
      },
      "source": [
        "np.array([0]*10)"
      ],
      "execution_count": 3,
      "outputs": [
        {
          "output_type": "execute_result",
          "data": {
            "text/plain": [
              "array([0, 0, 0, 0, 0, 0, 0, 0, 0, 0])"
            ]
          },
          "metadata": {},
          "execution_count": 3
        }
      ]
    },
    {
      "cell_type": "markdown",
      "metadata": {
        "id": "ov0n8YAdujT9"
      },
      "source": [
        "Create a numpy array with values ranging from 10 to 49"
      ]
    },
    {
      "cell_type": "code",
      "metadata": {
        "colab": {
          "base_uri": "https://localhost:8080/"
        },
        "id": "Ti9HJW2aunYF",
        "outputId": "a09d2db3-afa9-426b-8972-0e758b391c7b"
      },
      "source": [
        "np.array(range(10,50))"
      ],
      "execution_count": 4,
      "outputs": [
        {
          "output_type": "execute_result",
          "data": {
            "text/plain": [
              "array([10, 11, 12, 13, 14, 15, 16, 17, 18, 19, 20, 21, 22, 23, 24, 25, 26,\n",
              "       27, 28, 29, 30, 31, 32, 33, 34, 35, 36, 37, 38, 39, 40, 41, 42, 43,\n",
              "       44, 45, 46, 47, 48, 49])"
            ]
          },
          "metadata": {},
          "execution_count": 4
        }
      ]
    },
    {
      "cell_type": "markdown",
      "metadata": {
        "id": "-l4_x03Wu5Nc"
      },
      "source": [
        "Create a numpy matrix of 2*2 integers, filled with ones"
      ]
    },
    {
      "cell_type": "code",
      "metadata": {
        "colab": {
          "base_uri": "https://localhost:8080/"
        },
        "id": "J1PZXLR-u5w8",
        "outputId": "e4d5e3cc-b028-4989-a88d-97bc4094fabf"
      },
      "source": [
        "np.ones([2,2], dtype=np.int)"
      ],
      "execution_count": 5,
      "outputs": [
        {
          "output_type": "execute_result",
          "data": {
            "text/plain": [
              "array([[1, 1],\n",
              "       [1, 1]])"
            ]
          },
          "metadata": {},
          "execution_count": 5
        }
      ]
    },
    {
      "cell_type": "markdown",
      "metadata": {
        "id": "caTn-mstvqWS"
      },
      "source": [
        "\n",
        "Create a numpy matrix of 3*2 float numbers, filled with ones."
      ]
    },
    {
      "cell_type": "code",
      "metadata": {
        "colab": {
          "base_uri": "https://localhost:8080/"
        },
        "id": "xBc1YpG4vt7K",
        "outputId": "60537549-ace5-4c3a-93f4-1e542fb6194a"
      },
      "source": [
        "np.ones([3,2], dtype=np.float)"
      ],
      "execution_count": 6,
      "outputs": [
        {
          "output_type": "execute_result",
          "data": {
            "text/plain": [
              "array([[1., 1.],\n",
              "       [1., 1.],\n",
              "       [1., 1.]])"
            ]
          },
          "metadata": {},
          "execution_count": 6
        }
      ]
    },
    {
      "cell_type": "markdown",
      "metadata": {
        "id": "LxAYJe4Xv76L"
      },
      "source": [
        "Given the X numpy array, create a new numpy array with the same shape and type as X, filled with ones."
      ]
    },
    {
      "cell_type": "code",
      "metadata": {
        "id": "t7fIU69Jv-i0"
      },
      "source": [
        "X = np.arange(4, dtype=np.int)"
      ],
      "execution_count": 7,
      "outputs": []
    },
    {
      "cell_type": "code",
      "metadata": {
        "colab": {
          "base_uri": "https://localhost:8080/"
        },
        "id": "IPnqqJe9wJgu",
        "outputId": "ac7bdbf2-abf7-4761-ff9b-1ff788da7ff3"
      },
      "source": [
        "np.ones_like(X)"
      ],
      "execution_count": 8,
      "outputs": [
        {
          "output_type": "execute_result",
          "data": {
            "text/plain": [
              "array([1, 1, 1, 1])"
            ]
          },
          "metadata": {},
          "execution_count": 8
        }
      ]
    },
    {
      "cell_type": "markdown",
      "metadata": {
        "id": "z-iTHevYwYbG"
      },
      "source": [
        "\n",
        "Given the X numpy matrix, create a new numpy matrix with the same shape and type as X, filled with zeros"
      ]
    },
    {
      "cell_type": "code",
      "metadata": {
        "id": "SOEGb39CwgGs"
      },
      "source": [
        "X = np.array([[1,2,3], [4,5,6]], dtype=np.int)"
      ],
      "execution_count": 9,
      "outputs": []
    },
    {
      "cell_type": "code",
      "metadata": {
        "colab": {
          "base_uri": "https://localhost:8080/"
        },
        "id": "08YgrTGryda_",
        "outputId": "85b6d260-5afe-42c7-ab65-92d05af5ad0d"
      },
      "source": [
        "np.zeros_like(X)"
      ],
      "execution_count": 10,
      "outputs": [
        {
          "output_type": "execute_result",
          "data": {
            "text/plain": [
              "array([[0, 0, 0],\n",
              "       [0, 0, 0]])"
            ]
          },
          "metadata": {},
          "execution_count": 10
        }
      ]
    },
    {
      "cell_type": "markdown",
      "metadata": {
        "id": "Xl8I2-x9ywmL"
      },
      "source": [
        "Create a numpy matrix of 4*4 integers, filled with fives."
      ]
    },
    {
      "cell_type": "code",
      "metadata": {
        "colab": {
          "base_uri": "https://localhost:8080/"
        },
        "id": "6ljaOBtPy05t",
        "outputId": "a216e0a6-fd23-4981-c602-f53c93352c7c"
      },
      "source": [
        "np.ones([4,4], dtype=np.int)*5"
      ],
      "execution_count": 11,
      "outputs": [
        {
          "output_type": "execute_result",
          "data": {
            "text/plain": [
              "array([[5, 5, 5, 5],\n",
              "       [5, 5, 5, 5],\n",
              "       [5, 5, 5, 5],\n",
              "       [5, 5, 5, 5]])"
            ]
          },
          "metadata": {},
          "execution_count": 11
        }
      ]
    },
    {
      "cell_type": "markdown",
      "metadata": {
        "id": "nXzORbInzZwb"
      },
      "source": [
        " Given the X numpy matrix, create a new numpy matrix with the same shape and type as X, filled with sevens."
      ]
    },
    {
      "cell_type": "code",
      "metadata": {
        "id": "4-TqjsB9zkid"
      },
      "source": [
        "X = np.array([[2,3], [6,2]], dtype=np.int)"
      ],
      "execution_count": 12,
      "outputs": []
    },
    {
      "cell_type": "code",
      "metadata": {
        "colab": {
          "base_uri": "https://localhost:8080/"
        },
        "id": "dYBU0PkbzvHG",
        "outputId": "46f20f54-187a-48e4-ff80-d29327c617d4"
      },
      "source": [
        "np.ones_like(X, dtype=np.int)*7"
      ],
      "execution_count": 13,
      "outputs": [
        {
          "output_type": "execute_result",
          "data": {
            "text/plain": [
              "array([[7, 7],\n",
              "       [7, 7]])"
            ]
          },
          "metadata": {},
          "execution_count": 13
        }
      ]
    },
    {
      "cell_type": "markdown",
      "metadata": {
        "id": "BA_brBhh0SWU"
      },
      "source": [
        " Create a 3*3 identity numpy matrix with ones on the diagonal and zeros elsewhere."
      ]
    },
    {
      "cell_type": "code",
      "metadata": {
        "colab": {
          "base_uri": "https://localhost:8080/"
        },
        "id": "2syzfc400TMV",
        "outputId": "e5497b45-df2c-42eb-f826-9d44cdf28652"
      },
      "source": [
        "np.identity(3)"
      ],
      "execution_count": 14,
      "outputs": [
        {
          "output_type": "execute_result",
          "data": {
            "text/plain": [
              "array([[1., 0., 0.],\n",
              "       [0., 1., 0.],\n",
              "       [0., 0., 1.]])"
            ]
          },
          "metadata": {},
          "execution_count": 14
        }
      ]
    },
    {
      "cell_type": "markdown",
      "metadata": {
        "id": "Dio2ZNHk0le7"
      },
      "source": [
        " Create a numpy array, filled with 3 random integer values between 1 and 10."
      ]
    },
    {
      "cell_type": "code",
      "metadata": {
        "colab": {
          "base_uri": "https://localhost:8080/"
        },
        "id": "MM9H62FJ0nfa",
        "outputId": "572ec648-2993-4ae1-a214-8e5bc3ef85ba"
      },
      "source": [
        "np.random.randint(10, size=3)"
      ],
      "execution_count": 15,
      "outputs": [
        {
          "output_type": "execute_result",
          "data": {
            "text/plain": [
              "array([6, 5, 4])"
            ]
          },
          "metadata": {},
          "execution_count": 15
        }
      ]
    },
    {
      "cell_type": "markdown",
      "metadata": {
        "id": "YYerDdLZ0_rA"
      },
      "source": [
        "Create a 3*3*3 numpy matrix, filled with random float values."
      ]
    },
    {
      "cell_type": "code",
      "metadata": {
        "colab": {
          "base_uri": "https://localhost:8080/"
        },
        "id": "79taOZ5p1C_o",
        "outputId": "a543d97c-6d0b-4864-f23a-7e478120a73b"
      },
      "source": [
        "np.random.randn(3,3,3)"
      ],
      "execution_count": 16,
      "outputs": [
        {
          "output_type": "execute_result",
          "data": {
            "text/plain": [
              "array([[[ 2.49795809,  1.82208975, -1.49857506],\n",
              "        [-0.54127247,  0.99907662, -0.415504  ],\n",
              "        [ 0.39621229, -0.65683187, -0.29013456]],\n",
              "\n",
              "       [[-2.36367363,  1.0698202 ,  2.73597208],\n",
              "        [ 0.45621833,  0.12630892,  0.36047773],\n",
              "        [ 0.04184961, -0.70956094,  1.34335757]],\n",
              "\n",
              "       [[-1.21531676,  0.01793596, -1.97802865],\n",
              "        [ 0.40099273,  0.30849971,  1.72699127],\n",
              "        [-0.5702427 , -0.56404251,  0.4879614 ]]])"
            ]
          },
          "metadata": {},
          "execution_count": 16
        }
      ]
    },
    {
      "cell_type": "markdown",
      "metadata": {
        "id": "lQYkztZH12Fs"
      },
      "source": [
        " Given the X python list convert it to an Y numpy array"
      ]
    },
    {
      "cell_type": "code",
      "metadata": {
        "colab": {
          "base_uri": "https://localhost:8080/"
        },
        "id": "VmbQbQ3i1v-k",
        "outputId": "96d7f7ae-bd6e-4ff6-a20e-6463606d1ebd"
      },
      "source": [
        "X = [1, 2, 3]\n",
        "print(X, type(X))"
      ],
      "execution_count": 17,
      "outputs": [
        {
          "output_type": "stream",
          "name": "stdout",
          "text": [
            "[1, 2, 3] <class 'list'>\n"
          ]
        }
      ]
    },
    {
      "cell_type": "code",
      "metadata": {
        "id": "nn6DKYVg2DWb"
      },
      "source": [
        "y = np.array(X)"
      ],
      "execution_count": 18,
      "outputs": []
    },
    {
      "cell_type": "code",
      "metadata": {
        "colab": {
          "base_uri": "https://localhost:8080/"
        },
        "id": "p6BKYcaS2Y5E",
        "outputId": "b49d5761-9d89-4dbb-9ec4-ad489526a16c"
      },
      "source": [
        "print(type(y))"
      ],
      "execution_count": 19,
      "outputs": [
        {
          "output_type": "stream",
          "name": "stdout",
          "text": [
            "<class 'numpy.ndarray'>\n"
          ]
        }
      ]
    },
    {
      "cell_type": "markdown",
      "metadata": {
        "id": "FfnCf27U2kXN"
      },
      "source": [
        " Given the X numpy array, make a copy and store it on Y."
      ]
    },
    {
      "cell_type": "code",
      "metadata": {
        "colab": {
          "base_uri": "https://localhost:8080/"
        },
        "id": "3WGt0WPs26_r",
        "outputId": "3eeab09f-54e8-4015-f4df-4342c84692b5"
      },
      "source": [
        "X = np.array([5,2,3], dtype=np.int)\n",
        "print(X, id(X))"
      ],
      "execution_count": 20,
      "outputs": [
        {
          "output_type": "stream",
          "name": "stdout",
          "text": [
            "[5 2 3] 140277608554288\n"
          ]
        }
      ]
    },
    {
      "cell_type": "code",
      "metadata": {
        "colab": {
          "base_uri": "https://localhost:8080/"
        },
        "id": "ILM_XJFc2-Lo",
        "outputId": "da5a3f55-a324-457a-fc9a-3a484bfb2fe2"
      },
      "source": [
        "Y = X.copy()\n",
        "print(Y, id(Y))"
      ],
      "execution_count": 21,
      "outputs": [
        {
          "output_type": "stream",
          "name": "stdout",
          "text": [
            "[5 2 3] 140277608524496\n"
          ]
        }
      ]
    },
    {
      "cell_type": "markdown",
      "metadata": {
        "id": "wOGutnLirAuM"
      },
      "source": [
        "Create a numpy array with numbers from 1 to 10"
      ]
    },
    {
      "cell_type": "code",
      "metadata": {
        "colab": {
          "base_uri": "https://localhost:8080/"
        },
        "id": "AlM-SS2ZrKnH",
        "outputId": "4e199def-3ab2-475a-923d-0c4920d5bc4e"
      },
      "source": [
        "np.arange(1,11)"
      ],
      "execution_count": 26,
      "outputs": [
        {
          "output_type": "execute_result",
          "data": {
            "text/plain": [
              "array([ 1,  2,  3,  4,  5,  6,  7,  8,  9, 10])"
            ]
          },
          "metadata": {},
          "execution_count": 26
        }
      ]
    },
    {
      "cell_type": "markdown",
      "metadata": {
        "id": "hQ7t-gjHrZ5h"
      },
      "source": [
        "Create a numpy array with the odd numbers between 1 to 10"
      ]
    },
    {
      "cell_type": "code",
      "metadata": {
        "colab": {
          "base_uri": "https://localhost:8080/"
        },
        "id": "pVw22QhKrb2w",
        "outputId": "cd6ce07a-e090-443a-adef-7ec1de19cb36"
      },
      "source": [
        "np.arange(1,11,2)"
      ],
      "execution_count": 28,
      "outputs": [
        {
          "output_type": "execute_result",
          "data": {
            "text/plain": [
              "array([1, 3, 5, 7, 9])"
            ]
          },
          "metadata": {},
          "execution_count": 28
        }
      ]
    },
    {
      "cell_type": "markdown",
      "metadata": {
        "id": "6XbGuTIWr6Rh"
      },
      "source": [
        "Create a numpy array with numbers from 1 to 10, in descending order."
      ]
    },
    {
      "cell_type": "code",
      "metadata": {
        "colab": {
          "base_uri": "https://localhost:8080/"
        },
        "id": "RBA5WcuhrjjE",
        "outputId": "034712a3-64ae-46b3-cf31-e2228e1e12fe"
      },
      "source": [
        "np.arange(1,11)[::-1]"
      ],
      "execution_count": 32,
      "outputs": [
        {
          "output_type": "execute_result",
          "data": {
            "text/plain": [
              "array([10,  9,  8,  7,  6,  5,  4,  3,  2,  1])"
            ]
          },
          "metadata": {},
          "execution_count": 32
        }
      ]
    },
    {
      "cell_type": "markdown",
      "metadata": {
        "id": "WAjX3QTasFC5"
      },
      "source": [
        "Create a 3*3 numpy matrix, filled with values ranging from 0 to 8"
      ]
    },
    {
      "cell_type": "code",
      "metadata": {
        "colab": {
          "base_uri": "https://localhost:8080/"
        },
        "id": "r3J2aCP1sISY",
        "outputId": "d2cffbf5-b099-494e-a06b-a76aa16271a0"
      },
      "source": [
        "np.arange(0,9).reshape(3,3)"
      ],
      "execution_count": 35,
      "outputs": [
        {
          "output_type": "execute_result",
          "data": {
            "text/plain": [
              "array([[0, 1, 2],\n",
              "       [3, 4, 5],\n",
              "       [6, 7, 8]])"
            ]
          },
          "metadata": {},
          "execution_count": 35
        }
      ]
    },
    {
      "cell_type": "markdown",
      "metadata": {
        "id": "SDfQ7lSVsvwS"
      },
      "source": [
        "Show the memory size of the given Z numpy matrix"
      ]
    },
    {
      "cell_type": "code",
      "metadata": {
        "id": "PbpeJdh4syWH"
      },
      "source": [
        "Z = np.zeros((10,10))"
      ],
      "execution_count": 36,
      "outputs": []
    },
    {
      "cell_type": "code",
      "metadata": {
        "colab": {
          "base_uri": "https://localhost:8080/"
        },
        "id": "z2VSh_mFs0dh",
        "outputId": "a7064f20-38b8-4d7c-ff4d-3d68e3fa8d75"
      },
      "source": [
        "print('%d bytes' %(Z.size * Z.itemsize))"
      ],
      "execution_count": 37,
      "outputs": [
        {
          "output_type": "stream",
          "name": "stdout",
          "text": [
            "800 bytes\n"
          ]
        }
      ]
    },
    {
      "cell_type": "code",
      "metadata": {
        "colab": {
          "base_uri": "https://localhost:8080/"
        },
        "id": "MSRV0qZBtQcd",
        "outputId": "da770bf8-67ea-4286-fcd9-249943bc3719"
      },
      "source": [
        "name = 'Kikira'\n",
        "print('My name is %s' %name)"
      ],
      "execution_count": 40,
      "outputs": [
        {
          "output_type": "stream",
          "name": "stdout",
          "text": [
            "My name is Kikira\n"
          ]
        }
      ]
    },
    {
      "cell_type": "code",
      "metadata": {
        "colab": {
          "base_uri": "https://localhost:8080/"
        },
        "id": "2PkLP570tisv",
        "outputId": "2189a0a7-148d-4bec-af6c-78e3c24529ed"
      },
      "source": [
        "year = 28\n",
        "print('I\\'m %s years old' %year)"
      ],
      "execution_count": 42,
      "outputs": [
        {
          "output_type": "stream",
          "name": "stdout",
          "text": [
            "I'm 28 year old\n"
          ]
        }
      ]
    },
    {
      "cell_type": "markdown",
      "metadata": {
        "id": "FDVMsrBit2Hi"
      },
      "source": [
        "##Array indexation\n",
        " \n",
        " Given the X numpy array, show it's first element"
      ]
    },
    {
      "cell_type": "code",
      "metadata": {
        "id": "MDHteA9Yt7eR"
      },
      "source": [
        ""
      ],
      "execution_count": null,
      "outputs": []
    }
  ]
}